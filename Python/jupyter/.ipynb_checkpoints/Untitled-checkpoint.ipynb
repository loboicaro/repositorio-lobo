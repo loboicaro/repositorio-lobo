{
 "cells": [
  {
   "cell_type": "code",
   "execution_count": null,
   "id": "663509a0",
   "metadata": {},
   "outputs": [],
   "source": [
    "!pip install pyautogui\n",
    "!pip install pyperclip"
   ]
  },
  {
   "cell_type": "code",
   "execution_count": 26,
   "id": "9379bba0",
   "metadata": {
    "scrolled": true
   },
   "outputs": [],
   "source": [
    "# Passo a passo para execução do teste \n",
    "\n",
    "import pyautogui\n",
    "import pyperclip\n",
    "\n",
    "# Passo 1: Abrir o navegador;\n",
    "\n",
    "pyautogui.press(\"win\")\n",
    "pyautogui.write(\"firefox\")\n",
    "pyautogui.press(\"enter\")\n",
    "time.sleep(4)\n",
    "pyautogui.click(x=475, y=61)\n",
    "\n",
    "# Passo 2: Entrar no Altaia (link do portal do Altaia TIM DEV);\n",
    "\n",
    "pyperclip.copy(\"https://altaiatim-fe.c.ptin.corppt.com/idp/login\")\n",
    "pyautogui.hotkey(\"ctrl\",\"v\")\n",
    "pyautogui.press(\"enter\")\n",
    "\n",
    "# Passo 3: No módulo de Desempenho de Rede e Serviços, acessar o menu Gestão e escolher a opção DBN0 (será exebida a tela com o catálogo de hierarquias de tabelas).\n",
    "\n",
    "\n",
    "\n",
    "\n"
   ]
  },
  {
   "cell_type": "code",
   "execution_count": 21,
   "id": "216f7efb",
   "metadata": {},
   "outputs": [
    {
     "data": {
      "text/plain": [
       "Point(x=475, y=61)"
      ]
     },
     "execution_count": 21,
     "metadata": {},
     "output_type": "execute_result"
    }
   ],
   "source": [
    "# import time\n",
    "time.sleep(5)\n",
    "pyautogui.position()"
   ]
  },
  {
   "cell_type": "code",
   "execution_count": null,
   "id": "629f09c9",
   "metadata": {},
   "outputs": [],
   "source": []
  }
 ],
 "metadata": {
  "kernelspec": {
   "display_name": "Python 3 (ipykernel)",
   "language": "python",
   "name": "python3"
  },
  "language_info": {
   "codemirror_mode": {
    "name": "ipython",
    "version": 3
   },
   "file_extension": ".py",
   "mimetype": "text/x-python",
   "name": "python",
   "nbconvert_exporter": "python",
   "pygments_lexer": "ipython3",
   "version": "3.9.7"
  }
 },
 "nbformat": 4,
 "nbformat_minor": 5
}

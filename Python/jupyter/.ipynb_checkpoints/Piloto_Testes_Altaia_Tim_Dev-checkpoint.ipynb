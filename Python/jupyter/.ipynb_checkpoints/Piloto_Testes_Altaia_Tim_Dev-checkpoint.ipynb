{
 "cells": [
  {
   "cell_type": "code",
   "execution_count": null,
   "id": "8a79423c",
   "metadata": {},
   "outputs": [],
   "source": [
    "#Pré requisitos para execução deste teste automático:\n",
    "\n",
    "#Acesso a internet;\n",
    "#VPN conectada;\n",
    "#Dados de acesso do Altaia TIM DEV;"
   ]
  },
  {
   "cell_type": "code",
   "execution_count": null,
   "id": "23f10809",
   "metadata": {},
   "outputs": [],
   "source": [
    "#Passos a serem implementados neste \"piloto\":\n",
    "\n",
    "#Acessar o portal do Altaia;\n",
    "#Inserir usuário e senha de acesso;\n",
    "#Acessar o módulo Gestão;\n",
    "#Na categoria 'Inventário', clicar em 'Gestão';\n",
    "#Dentro do campo 'Nome', consultar a métrica;\n",
    "#Clicar no campo nome e copiar a métrica;\n",
    "#Clicar no botão 'Pesquisar';\n",
    "#Consultar e validar a existência de cada Métrica conforme o projeto;"
   ]
  },
  {
   "cell_type": "code",
   "execution_count": null,
   "id": "158e6ecd",
   "metadata": {},
   "outputs": [],
   "source": [
    "#Bibliotecas essenciais para o projeto:\n",
    "\n",
    "#instalar o selenium:\n",
    "#!pip install selenium\n",
    "\n",
    "#importar bibliotecas:\n",
    "#from selenium import webdriver (para manipular usando selenium)\n",
    "#from selenium.webdriver.common.by import By (para localizar elementos)\n",
    "#from selenium.webdriver.common.keys import Keys (para enviar comandos)\n",
    "#import time (para inserir intervalo de tempo)\n",
    "#import pandas (para análise e tratamento de dados)\n"
   ]
  },
  {
   "cell_type": "code",
   "execution_count": null,
   "id": "64263580",
   "metadata": {},
   "outputs": [],
   "source": [
    "##O TESTE COMEÇA A PARTIR DAQUI##"
   ]
  },
  {
   "cell_type": "code",
<<<<<<< HEAD
   "execution_count": 34,
=======
   "execution_count": null,
>>>>>>> 9a7fbe48622938996fd4887a8d560748e72428e2
   "id": "05103126",
   "metadata": {
    "scrolled": true
   },
   "outputs": [],
   "source": [
    "#Acessar o portal do Altaia;\n",
    "import time \n",
    "from selenium import webdriver\n",
    "from selenium.webdriver import ActionChains\n",
    "from selenium.webdriver.common.by import By\n",
    "from selenium.webdriver.common.keys import Keys\n",
    "driver = webdriver.Firefox()\n",
    "driver.get(\"https://altaiatim-fe.c.ptin.corppt.com/portal/altaia\")\n",
    "time.sleep(5)\n",
    "#Inserir usuário e senha de acesso;\n",
    "driver.find_element(By.XPATH,'//*[@id=\"inputUsername\"]').send_keys(\"ptin\")\n",
    "driver.find_element(By.XPATH,'//*[@id=\"next\"]').click()\n",
    "time.sleep(2)\n",
    "driver.find_element(By.XPATH,'//*[@id=\"inputPassword\"]').send_keys(\"ptinbit\")\n",
    "driver.find_element(By.XPATH, '//*[@id=\"login\"]').click()\n",
    "time.sleep(35)\n",
    "#Acessar o módulo Gestão;\n",
    "driver.find_element(By.XPATH, '/html/body/nav/div[1]/div[2]/ul/li[5]/a').click()\n",
    "time.sleep(1)\n",
<<<<<<< HEAD
    "#Na categoria 'Inventário', clicar em 'Gestão';\n",
    "driver.find_element(By.XPATH, '/html/body/nav/div[1]/div[2]/ul/li[5]/div/ul[1]/li[2]/a/span').click()\n",
    "time.sleep(20)\n",
    "#Dentro do campo 'Nome', consultar a métrica;\n",
    "#Mas antes, para consultar a métrica na base de dados, use:\n",
    "import pandas as pd\n",
    "tabela = pd.read_excel('metricas_piloto.xlsx')\n",
    "linha_01 = tabela.loc[0, \"Função\"]\n",
    "#Clicar no campo nome e enviar os dados da consulta;\n",
    "texto_funcao = driver.find_element(By.XPATH,'/html/body/div[2]/altaia-app/altaia-submenu-page/altaia-submenu/div/altaia-metrics-management/altaia-metrics-search/altaia-search-page/nossisui-sidebar/fx-panel/div[1]/altaia-metrics-search-filter/nossisui-dynamic-form/form/div/div/nossisui-dynamic-form-linear-input-layout[3]/div/div/div/nossisui-textbox-form-control/input').send_keys(str(linha_01))\n",
    "#Clicar no botão 'Pesquisar';\n",
    "driver.find_element(By.XPATH, '/html/body/div[2]/altaia-app/altaia-submenu-page/altaia-submenu/div/altaia-metrics-management/altaia-metrics-search/altaia-search-page/nossisui-sidebar/fx-panel/fx-panel-footer/button[2]').click()\n"
=======
    "#Na categoria 'Inventário', clicar em DBN0;\n",
    "driver.find_element(By.XPATH, '/html/body/nav/div[1]/div[2]/ul/li[5]/div/ul[3]/li[2]/a/span').click()\n",
    "time.sleep(20)\n",
    "#Dentro de 'Catálogo', expandir a opção 'Database';\n",
    "source = driver.find_element(By.XPATH, '/html/body/div/div/ul/li[1]/ul/li')\n",
    "mouse = ActionChains(driver)\n",
    "mouse.double_click(source).perform()\n"
>>>>>>> 9a7fbe48622938996fd4887a8d560748e72428e2
   ]
  },
  {
   "cell_type": "code",
   "execution_count": null,
   "id": "4ea4a35a",
   "metadata": {},
   "outputs": [],
   "source": [
    "#Mas antes, para consultar a métrica na base de dados, use:\n",
    "import pandas as pd\n",
    "\n",
    "tabela = pd.read_excel('metricas_piloto.xlsx')\n",
    "for i, função in enumerate(tabela[\"Função\"]):\n",
    "\n"
   ]
  },
  {
   "cell_type": "code",
   "execution_count": 31,
   "id": "64176228",
   "metadata": {},
   "outputs": [
    {
     "name": "stdout",
     "output_type": "stream",
     "text": [
      "F_TIM_CCDM_UDR_GUD_DR_OVERLOAD_RESP\n"
     ]
    }
   ],
   "source": [
    "import pandas as pd\n",
    "\n",
    "tabela = pd.read_excel('metricas_piloto.xlsx')\n",
    "linha_01 = tabela.loc[0, \"Função\"]\n",
    "print(linha_01)"
   ]
  },
  {
   "cell_type": "code",
   "execution_count": null,
   "id": "4fbd793b",
   "metadata": {},
   "outputs": [],
   "source": []
  }
 ],
 "metadata": {
  "kernelspec": {
   "display_name": "Python 3 (ipykernel)",
   "language": "python",
   "name": "python3"
  },
  "language_info": {
   "codemirror_mode": {
    "name": "ipython",
    "version": 3
   },
   "file_extension": ".py",
   "mimetype": "text/x-python",
   "name": "python",
   "nbconvert_exporter": "python",
   "pygments_lexer": "ipython3",
   "version": "3.9.7"
  }
 },
 "nbformat": 4,
 "nbformat_minor": 5
}

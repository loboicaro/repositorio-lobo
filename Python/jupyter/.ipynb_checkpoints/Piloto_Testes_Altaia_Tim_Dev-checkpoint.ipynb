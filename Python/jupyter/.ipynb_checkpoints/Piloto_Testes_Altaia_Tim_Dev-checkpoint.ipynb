{
 "cells": [
  {
   "cell_type": "code",
   "execution_count": null,
   "id": "8a79423c",
   "metadata": {},
   "outputs": [],
   "source": [
    "#Pré requisitos para execução deste teste automático:\n",
    "#Acesso a internet;\n",
    "#VPN conectada;\n",
    "#Dados de acesso do Altaia TIM DEV;"
   ]
  },
  {
   "cell_type": "code",
   "execution_count": null,
   "id": "23f10809",
   "metadata": {},
   "outputs": [],
   "source": [
    "#Acessar o portal do Altaia;\n",
    "#Inserir usuário e senha de acesso;\n",
    "#Acessar o módulo Gestão;\n",
    "#Na categoria 'Inventário', clicar em DBN0;\n",
    "#Dentro de 'Catálogo', expandir a opção 'Database';\n",
    "#Expandir a 'TableGroup' do projeto em questão;\n",
    "#Consultar e validar a existência de cada DBN0 conforme o projeto;"
   ]
  },
  {
   "cell_type": "code",
   "execution_count": null,
   "id": "158e6ecd",
   "metadata": {},
   "outputs": [],
   "source": [
    "#instalar o selenium\n",
    "#!pip install selenium\n",
    "\n",
    "#importar bibliotecas\n",
    "#from selenium import webdriver\n",
    "\n",
    "#criar instância do browser de testes\n",
    "#driver = webdriver.Firefox()\n"
   ]
  },
  {
   "cell_type": "code",
   "execution_count": null,
   "id": "64263580",
   "metadata": {},
   "outputs": [],
   "source": [
    "#O TESTE COMEÇA A PARTIR DAQUI#"
   ]
  },
  {
   "cell_type": "code",
   "execution_count": null,
   "id": "05103126",
   "metadata": {
    "scrolled": true
   },
   "outputs": [],
   "source": [
    "#Acessar o portal do Altaia;\n",
    "import time\n",
    "from selenium import webdriver\n",
    "from selenium.webdriver import ActionChains\n",
    "from selenium.webdriver.common.by import By\n",
    "from selenium.webdriver.common.keys import Keys\n",
    "driver = webdriver.Firefox()\n",
    "driver.get(\"https://altaiatim-fe.c.ptin.corppt.com/portal/altaia\")\n",
    "time.sleep(5)\n",
    "#Inserir usuário e senha de acesso;\n",
    "driver.find_element(By.XPATH,'//*[@id=\"inputUsername\"]').send_keys(\"ptin\")\n",
    "driver.find_element(By.XPATH,'//*[@id=\"next\"]').click()\n",
    "time.sleep(2)\n",
    "driver.find_element(By.XPATH,'//*[@id=\"inputPassword\"]').send_keys(\"ptinbit\")\n",
    "driver.find_element(By.XPATH, '//*[@id=\"login\"]').click()\n",
    "time.sleep(35)\n",
    "#Acessar o módulo Gestão;\n",
    "driver.find_element(By.XPATH, '/html/body/nav/div[1]/div[2]/ul/li[5]/a').click()\n",
    "time.sleep(1)\n",
    "#Na categoria 'Inventário', clicar em DBN0;\n",
    "driver.find_element(By.XPATH, '/html/body/nav/div[1]/div[2]/ul/li[5]/div/ul[3]/li[2]/a/span').click()\n",
    "time.sleep(20)\n",
    "#Dentro de 'Catálogo', expandir a opção 'Database';\n",
    "source = driver.find_element(By.XPATH, '/html/body/div/div/ul/li[1]/ul/li')\n",
    "mouse = ActionChains(driver)\n",
    "mouse.double_click(source).perform()\n"
   ]
  },
  {
   "cell_type": "code",
   "execution_count": null,
   "id": "4ea4a35a",
   "metadata": {},
   "outputs": [],
   "source": []
  }
 ],
 "metadata": {
  "kernelspec": {
   "display_name": "Python 3 (ipykernel)",
   "language": "python",
   "name": "python3"
  },
  "language_info": {
   "codemirror_mode": {
    "name": "ipython",
    "version": 3
   },
   "file_extension": ".py",
   "mimetype": "text/x-python",
   "name": "python",
   "nbconvert_exporter": "python",
   "pygments_lexer": "ipython3",
   "version": "3.9.7"
  }
 },
 "nbformat": 4,
 "nbformat_minor": 5
}

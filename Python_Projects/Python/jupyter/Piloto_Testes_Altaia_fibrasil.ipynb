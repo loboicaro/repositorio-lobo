{
 "cells": [
  {
   "cell_type": "code",
   "execution_count": null,
   "id": "8a79423c",
   "metadata": {},
   "outputs": [],
   "source": [
    "#Pré requisitos para execução deste teste automático:\n",
    "\n",
    "#Acesso a internet;\n",
    "#VPN conectada;\n",
    "#Dados de acesso do Altaia Fibrasil SIT;"
   ]
  },
  {
   "cell_type": "code",
   "execution_count": null,
   "id": "23f10809",
   "metadata": {},
   "outputs": [],
   "source": [
    "#Passos a serem implementados neste \"piloto\":\n",
    "\n",
    "#Acessar o portal do Altaia;\n",
    "#Inserir usuário e senha de acesso;\n",
    "#Acessar o módulo Gestão;\n",
    "#Na categoria 'Inventário', clicar em 'Gestão';\n",
    "#Dentro do campo 'Nome', consultar a métrica;\n",
    "#Clicar no campo nome e copiar a métrica;\n",
    "#Clicar no botão 'Pesquisar';\n",
    "#Consultar e validar a existência de cada Métrica conforme o projeto;"
   ]
  },
  {
   "cell_type": "code",
   "execution_count": 8,
   "id": "158e6ecd",
   "metadata": {},
   "outputs": [],
   "source": [
    "#Bibliotecas essenciais para o projeto:\n",
    "\n",
    "#instalar o selenium:\n",
    "#!pip install selenium\n",
    "\n",
    "#importar bibliotecas:\n",
    "#from selenium import webdriver (para manipular usando selenium)\n",
    "#from selenium.webdriver.common.by import By (para localizar elementos)\n",
    "#from selenium.webdriver.common.keys import Keys (para enviar comandos)\n",
    "#import time (para inserir intervalo de tempo)\n",
    "#import pandas (para análise e tratamento de dados)\n"
   ]
  },
  {
   "cell_type": "code",
   "execution_count": null,
   "id": "64263580",
   "metadata": {},
   "outputs": [],
   "source": [
    "##O TESTE COMEÇA A PARTIR DAQUI##"
   ]
  },
  {
   "cell_type": "code",
   "execution_count": 13,
   "id": "05103126",
   "metadata": {
    "scrolled": true
   },
   "outputs": [
    {
     "ename": "NoSuchElementException",
     "evalue": "Message: no such element: Unable to locate element: {\"method\":\"xpath\",\"selector\":\"/html/body/nav/div[1]/div[2]/ul/li[5]/div/ul[1]/li[2]/a/span\"}\n  (Session info: chrome=100.0.4896.88)\nStacktrace:\nBacktrace:\n\tOrdinal0 [0x00EA7413+2389011]\n\tOrdinal0 [0x00E39F61+1941345]\n\tOrdinal0 [0x00D2C658+837208]\n\tOrdinal0 [0x00D591DD+1020381]\n\tOrdinal0 [0x00D5949B+1021083]\n\tOrdinal0 [0x00D86032+1204274]\n\tOrdinal0 [0x00D74194+1130900]\n\tOrdinal0 [0x00D84302+1196802]\n\tOrdinal0 [0x00D73F66+1130342]\n\tOrdinal0 [0x00D4E546+976198]\n\tOrdinal0 [0x00D4F456+980054]\n\tGetHandleVerifier [0x01059632+1727522]\n\tGetHandleVerifier [0x0110BA4D+2457661]\n\tGetHandleVerifier [0x00F3EB81+569713]\n\tGetHandleVerifier [0x00F3DD76+566118]\n\tOrdinal0 [0x00E40B2B+1968939]\n\tOrdinal0 [0x00E45988+1989000]\n\tOrdinal0 [0x00E45A75+1989237]\n\tOrdinal0 [0x00E4ECB1+2026673]\n\tBaseThreadInitThunk [0x76C3FA29+25]\n\tRtlGetAppContainerNamedObjectPath [0x77AF7A7E+286]\n\tRtlGetAppContainerNamedObjectPath [0x77AF7A4E+238]\n",
     "output_type": "error",
     "traceback": [
      "\u001b[1;31m---------------------------------------------------------------------------\u001b[0m",
      "\u001b[1;31mNoSuchElementException\u001b[0m                    Traceback (most recent call last)",
      "\u001b[1;32m~\\AppData\\Local\\Temp/ipykernel_1256/2085450492.py\u001b[0m in \u001b[0;36m<module>\u001b[1;34m\u001b[0m\n\u001b[0;32m     18\u001b[0m \u001b[0mtime\u001b[0m\u001b[1;33m.\u001b[0m\u001b[0msleep\u001b[0m\u001b[1;33m(\u001b[0m\u001b[1;36m1\u001b[0m\u001b[1;33m)\u001b[0m\u001b[1;33m\u001b[0m\u001b[1;33m\u001b[0m\u001b[0m\n\u001b[0;32m     19\u001b[0m \u001b[1;31m#Na categoria 'Inventário', clicar em 'Gestão';\u001b[0m\u001b[1;33m\u001b[0m\u001b[1;33m\u001b[0m\u001b[0m\n\u001b[1;32m---> 20\u001b[1;33m \u001b[0mdriver\u001b[0m\u001b[1;33m.\u001b[0m\u001b[0mfind_element\u001b[0m\u001b[1;33m(\u001b[0m\u001b[0mBy\u001b[0m\u001b[1;33m.\u001b[0m\u001b[0mXPATH\u001b[0m\u001b[1;33m,\u001b[0m \u001b[1;34m'/html/body/nav/div[1]/div[2]/ul/li[5]/div/ul[1]/li[2]/a/span'\u001b[0m\u001b[1;33m)\u001b[0m\u001b[1;33m.\u001b[0m\u001b[0mclick\u001b[0m\u001b[1;33m(\u001b[0m\u001b[1;33m)\u001b[0m\u001b[1;33m\u001b[0m\u001b[1;33m\u001b[0m\u001b[0m\n\u001b[0m\u001b[0;32m     21\u001b[0m \u001b[0mtime\u001b[0m\u001b[1;33m.\u001b[0m\u001b[0msleep\u001b[0m\u001b[1;33m(\u001b[0m\u001b[1;36m20\u001b[0m\u001b[1;33m)\u001b[0m\u001b[1;33m\u001b[0m\u001b[1;33m\u001b[0m\u001b[0m\n\u001b[0;32m     22\u001b[0m \u001b[1;31m#Dentro do campo 'Nome', consultar a métrica;\u001b[0m\u001b[1;33m\u001b[0m\u001b[1;33m\u001b[0m\u001b[0m\n",
      "\u001b[1;32m~\\Anaconda3\\lib\\site-packages\\selenium\\webdriver\\remote\\webdriver.py\u001b[0m in \u001b[0;36mfind_element\u001b[1;34m(self, by, value)\u001b[0m\n\u001b[0;32m   1246\u001b[0m             \u001b[0mvalue\u001b[0m \u001b[1;33m=\u001b[0m \u001b[1;34m'[name=\"%s\"]'\u001b[0m \u001b[1;33m%\u001b[0m \u001b[0mvalue\u001b[0m\u001b[1;33m\u001b[0m\u001b[1;33m\u001b[0m\u001b[0m\n\u001b[0;32m   1247\u001b[0m \u001b[1;33m\u001b[0m\u001b[0m\n\u001b[1;32m-> 1248\u001b[1;33m         return self.execute(Command.FIND_ELEMENT, {\n\u001b[0m\u001b[0;32m   1249\u001b[0m             \u001b[1;34m'using'\u001b[0m\u001b[1;33m:\u001b[0m \u001b[0mby\u001b[0m\u001b[1;33m,\u001b[0m\u001b[1;33m\u001b[0m\u001b[1;33m\u001b[0m\u001b[0m\n\u001b[0;32m   1250\u001b[0m             'value': value})['value']\n",
      "\u001b[1;32m~\\Anaconda3\\lib\\site-packages\\selenium\\webdriver\\remote\\webdriver.py\u001b[0m in \u001b[0;36mexecute\u001b[1;34m(self, driver_command, params)\u001b[0m\n\u001b[0;32m    423\u001b[0m         \u001b[0mresponse\u001b[0m \u001b[1;33m=\u001b[0m \u001b[0mself\u001b[0m\u001b[1;33m.\u001b[0m\u001b[0mcommand_executor\u001b[0m\u001b[1;33m.\u001b[0m\u001b[0mexecute\u001b[0m\u001b[1;33m(\u001b[0m\u001b[0mdriver_command\u001b[0m\u001b[1;33m,\u001b[0m \u001b[0mparams\u001b[0m\u001b[1;33m)\u001b[0m\u001b[1;33m\u001b[0m\u001b[1;33m\u001b[0m\u001b[0m\n\u001b[0;32m    424\u001b[0m         \u001b[1;32mif\u001b[0m \u001b[0mresponse\u001b[0m\u001b[1;33m:\u001b[0m\u001b[1;33m\u001b[0m\u001b[1;33m\u001b[0m\u001b[0m\n\u001b[1;32m--> 425\u001b[1;33m             \u001b[0mself\u001b[0m\u001b[1;33m.\u001b[0m\u001b[0merror_handler\u001b[0m\u001b[1;33m.\u001b[0m\u001b[0mcheck_response\u001b[0m\u001b[1;33m(\u001b[0m\u001b[0mresponse\u001b[0m\u001b[1;33m)\u001b[0m\u001b[1;33m\u001b[0m\u001b[1;33m\u001b[0m\u001b[0m\n\u001b[0m\u001b[0;32m    426\u001b[0m             response['value'] = self._unwrap_value(\n\u001b[0;32m    427\u001b[0m                 response.get('value', None))\n",
      "\u001b[1;32m~\\Anaconda3\\lib\\site-packages\\selenium\\webdriver\\remote\\errorhandler.py\u001b[0m in \u001b[0;36mcheck_response\u001b[1;34m(self, response)\u001b[0m\n\u001b[0;32m    245\u001b[0m                 \u001b[0malert_text\u001b[0m \u001b[1;33m=\u001b[0m \u001b[0mvalue\u001b[0m\u001b[1;33m[\u001b[0m\u001b[1;34m'alert'\u001b[0m\u001b[1;33m]\u001b[0m\u001b[1;33m.\u001b[0m\u001b[0mget\u001b[0m\u001b[1;33m(\u001b[0m\u001b[1;34m'text'\u001b[0m\u001b[1;33m)\u001b[0m\u001b[1;33m\u001b[0m\u001b[1;33m\u001b[0m\u001b[0m\n\u001b[0;32m    246\u001b[0m             \u001b[1;32mraise\u001b[0m \u001b[0mexception_class\u001b[0m\u001b[1;33m(\u001b[0m\u001b[0mmessage\u001b[0m\u001b[1;33m,\u001b[0m \u001b[0mscreen\u001b[0m\u001b[1;33m,\u001b[0m \u001b[0mstacktrace\u001b[0m\u001b[1;33m,\u001b[0m \u001b[0malert_text\u001b[0m\u001b[1;33m)\u001b[0m  \u001b[1;31m# type: ignore[call-arg]  # mypy is not smart enough here\u001b[0m\u001b[1;33m\u001b[0m\u001b[1;33m\u001b[0m\u001b[0m\n\u001b[1;32m--> 247\u001b[1;33m         \u001b[1;32mraise\u001b[0m \u001b[0mexception_class\u001b[0m\u001b[1;33m(\u001b[0m\u001b[0mmessage\u001b[0m\u001b[1;33m,\u001b[0m \u001b[0mscreen\u001b[0m\u001b[1;33m,\u001b[0m \u001b[0mstacktrace\u001b[0m\u001b[1;33m)\u001b[0m\u001b[1;33m\u001b[0m\u001b[1;33m\u001b[0m\u001b[0m\n\u001b[0m\u001b[0;32m    248\u001b[0m \u001b[1;33m\u001b[0m\u001b[0m\n\u001b[0;32m    249\u001b[0m     \u001b[1;32mdef\u001b[0m \u001b[0m_value_or_default\u001b[0m\u001b[1;33m(\u001b[0m\u001b[0mself\u001b[0m\u001b[1;33m,\u001b[0m \u001b[0mobj\u001b[0m\u001b[1;33m:\u001b[0m \u001b[0mMapping\u001b[0m\u001b[1;33m[\u001b[0m\u001b[0m_KT\u001b[0m\u001b[1;33m,\u001b[0m \u001b[0m_VT\u001b[0m\u001b[1;33m]\u001b[0m\u001b[1;33m,\u001b[0m \u001b[0mkey\u001b[0m\u001b[1;33m:\u001b[0m \u001b[0m_KT\u001b[0m\u001b[1;33m,\u001b[0m \u001b[0mdefault\u001b[0m\u001b[1;33m:\u001b[0m \u001b[0m_VT\u001b[0m\u001b[1;33m)\u001b[0m \u001b[1;33m->\u001b[0m \u001b[0m_VT\u001b[0m\u001b[1;33m:\u001b[0m\u001b[1;33m\u001b[0m\u001b[1;33m\u001b[0m\u001b[0m\n",
      "\u001b[1;31mNoSuchElementException\u001b[0m: Message: no such element: Unable to locate element: {\"method\":\"xpath\",\"selector\":\"/html/body/nav/div[1]/div[2]/ul/li[5]/div/ul[1]/li[2]/a/span\"}\n  (Session info: chrome=100.0.4896.88)\nStacktrace:\nBacktrace:\n\tOrdinal0 [0x00EA7413+2389011]\n\tOrdinal0 [0x00E39F61+1941345]\n\tOrdinal0 [0x00D2C658+837208]\n\tOrdinal0 [0x00D591DD+1020381]\n\tOrdinal0 [0x00D5949B+1021083]\n\tOrdinal0 [0x00D86032+1204274]\n\tOrdinal0 [0x00D74194+1130900]\n\tOrdinal0 [0x00D84302+1196802]\n\tOrdinal0 [0x00D73F66+1130342]\n\tOrdinal0 [0x00D4E546+976198]\n\tOrdinal0 [0x00D4F456+980054]\n\tGetHandleVerifier [0x01059632+1727522]\n\tGetHandleVerifier [0x0110BA4D+2457661]\n\tGetHandleVerifier [0x00F3EB81+569713]\n\tGetHandleVerifier [0x00F3DD76+566118]\n\tOrdinal0 [0x00E40B2B+1968939]\n\tOrdinal0 [0x00E45988+1989000]\n\tOrdinal0 [0x00E45A75+1989237]\n\tOrdinal0 [0x00E4ECB1+2026673]\n\tBaseThreadInitThunk [0x76C3FA29+25]\n\tRtlGetAppContainerNamedObjectPath [0x77AF7A7E+286]\n\tRtlGetAppContainerNamedObjectPath [0x77AF7A4E+238]\n"
     ]
    }
   ],
   "source": [
    "#Acessar o portal do Altaia;\n",
    "import time \n",
    "from selenium import webdriver\n",
    "from selenium.webdriver.common.by import By\n",
    "from selenium.webdriver.common.keys import Keys\n",
    "driver = webdriver.Chrome()\n",
    "driver.get(\"https://altaia-sit.fibrasil.com.br/portal/altaia\")\n",
    "time.sleep(5)\n",
    "#Inserir usuário e senha de acesso;\n",
    "driver.find_element(By.XPATH,'//*[@id=\"inputUsername\"]').send_keys(\"altaia_sys\")\n",
    "driver.find_element(By.XPATH,'//*[@id=\"next\"]').click()\n",
    "time.sleep(2)\n",
    "driver.find_element(By.XPATH,'//*[@id=\"inputPassword\"]').send_keys(\"SuperAdmin#1234567\")\n",
    "driver.find_element(By.XPATH, '//*[@id=\"login\"]').click()\n",
    "time.sleep(15)\n",
    "#Acessar o módulo Gestão;\n",
    "driver.find_element(By.XPATH, '//*[@id=\"qm\"]').click()\n",
    "time.sleep(1)\n",
    "#Na categoria 'Inventário', clicar em 'Gestão';\n",
    "driver.find_element(By.XPATH, '/html/body/nav/div[1]/div[2]/ul/li[5]/div/ul[1]/li[2]/a/span').click()\n",
    "time.sleep(20)\n",
    "#Dentro do campo 'Nome', consultar a métrica;\n",
    "#Mas antes, para consultar a métrica na base de dados, use:\n",
    "import pandas as pd\n",
    "tabela = pd.read_excel('metricas_piloto.xlsx')\n",
    "linha_01 = tabela.loc[0, \"Função\"]\n",
    "#Clicar no campo nome e enviar os dados da consulta;\n",
    "texto_funcao = driver.find_element(By.XPATH,'/html/body/div[2]/altaia-app/altaia-submenu-page/altaia-submenu/div/altaia-metrics-management/altaia-metrics-search/altaia-search-page/nossisui-sidebar/fx-panel/div[1]/altaia-metrics-search-filter/nossisui-dynamic-form/form/div/div/nossisui-dynamic-form-linear-input-layout[3]/div/div/div/nossisui-textbox-form-control/input').send_keys(str(linha_01))\n",
    "#Clicar no botão 'Pesquisar';\n",
    "driver.find_element(By.XPATH, '/html/body/div[2]/altaia-app/altaia-submenu-page/altaia-submenu/div/altaia-metrics-management/altaia-metrics-search/altaia-search-page/nossisui-sidebar/fx-panel/fx-panel-footer/button[2]').click()\n"
   ]
  },
  {
   "cell_type": "code",
   "execution_count": null,
   "id": "4ea4a35a",
   "metadata": {},
   "outputs": [],
   "source": [
    "#Mas antes, para consultar a métrica na base de dados, use:\n",
    "import pandas as pd\n",
    "\n",
    "tabela = pd.read_excel('metricas_piloto.xlsx')\n",
    "for i, função in enumerate(tabela[\"Função\"]):\n",
    "\n"
   ]
  },
  {
   "cell_type": "code",
   "execution_count": 31,
   "id": "64176228",
   "metadata": {},
   "outputs": [
    {
     "name": "stdout",
     "output_type": "stream",
     "text": [
      "F_TIM_CCDM_UDR_GUD_DR_OVERLOAD_RESP\n"
     ]
    }
   ],
   "source": [
    "import pandas as pd\n",
    "\n",
    "tabela = pd.read_excel('metricas_piloto.xlsx')\n",
    "linha_01 = tabela.loc[0, \"Função\"]\n",
    "print(linha_01)"
   ]
  },
  {
   "cell_type": "code",
   "execution_count": null,
   "id": "4fbd793b",
   "metadata": {},
   "outputs": [],
   "source": []
  }
 ],
 "metadata": {
  "kernelspec": {
   "display_name": "Python 3 (ipykernel)",
   "language": "python",
   "name": "python3"
  },
  "language_info": {
   "codemirror_mode": {
    "name": "ipython",
    "version": 3
   },
   "file_extension": ".py",
   "mimetype": "text/x-python",
   "name": "python",
   "nbconvert_exporter": "python",
   "pygments_lexer": "ipython3",
   "version": "3.9.7"
  }
 },
 "nbformat": 4,
 "nbformat_minor": 5
}

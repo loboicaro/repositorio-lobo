{
 "cells": [
  {
   "cell_type": "code",
   "execution_count": null,
   "id": "8a79423c",
   "metadata": {},
   "outputs": [],
   "source": [
    "#Pré requisitos para execução deste teste automático:\n",
    "\n",
    "#Acesso a internet;\n",
    "#VPN conectada;\n",
    "#Dados de acesso do Altaia FIBRASIL SIT;"
   ]
  },
  {
   "cell_type": "code",
   "execution_count": null,
   "id": "23f10809",
   "metadata": {},
   "outputs": [],
   "source": [
    "#Passos a serem implementados neste \"teste\":\n",
    "\n",
    "#Acessar o portal do Altaia;\n",
    "#Inserir usuário e senha de acesso;\n",
    "#Acessar o módulo Gestão;\n",
    "#Na categoria 'Altaia', clicar em 'Logs';\n",
    "#Dentro da seção 'Estado', selecionar 'todos';\n",
    "#Clicar no botão 'Pesquisar'."
   ]
  },
  {
   "cell_type": "code",
   "execution_count": 3,
   "id": "158e6ecd",
   "metadata": {},
   "outputs": [
    {
     "name": "stdout",
     "output_type": "stream",
     "text": [
      "Requirement already satisfied: selenium in c:\\users\\lobo\\anaconda3\\lib\\site-packages (4.1.0)\n",
      "Requirement already satisfied: urllib3[secure]~=1.26 in c:\\users\\lobo\\anaconda3\\lib\\site-packages (from selenium) (1.26.7)\n",
      "Requirement already satisfied: trio~=0.17 in c:\\users\\lobo\\anaconda3\\lib\\site-packages (from selenium) (0.19.0)\n",
      "Requirement already satisfied: trio-websocket~=0.9 in c:\\users\\lobo\\anaconda3\\lib\\site-packages (from selenium) (0.9.2)\n",
      "Requirement already satisfied: outcome in c:\\users\\lobo\\anaconda3\\lib\\site-packages (from trio~=0.17->selenium) (1.1.0)\n",
      "Requirement already satisfied: attrs>=19.2.0 in c:\\users\\lobo\\anaconda3\\lib\\site-packages (from trio~=0.17->selenium) (21.2.0)\n",
      "Requirement already satisfied: cffi>=1.14 in c:\\users\\lobo\\anaconda3\\lib\\site-packages (from trio~=0.17->selenium) (1.14.6)\n",
      "Requirement already satisfied: sortedcontainers in c:\\users\\lobo\\anaconda3\\lib\\site-packages (from trio~=0.17->selenium) (2.4.0)\n",
      "Requirement already satisfied: sniffio in c:\\users\\lobo\\anaconda3\\lib\\site-packages (from trio~=0.17->selenium) (1.2.0)\n",
      "Requirement already satisfied: idna in c:\\users\\lobo\\anaconda3\\lib\\site-packages (from trio~=0.17->selenium) (3.2)\n",
      "Requirement already satisfied: async-generator>=1.9 in c:\\users\\lobo\\anaconda3\\lib\\site-packages (from trio~=0.17->selenium) (1.10)\n",
      "Requirement already satisfied: pycparser in c:\\users\\lobo\\anaconda3\\lib\\site-packages (from cffi>=1.14->trio~=0.17->selenium) (2.20)\n",
      "Requirement already satisfied: wsproto>=0.14 in c:\\users\\lobo\\anaconda3\\lib\\site-packages (from trio-websocket~=0.9->selenium) (1.0.0)\n",
      "Requirement already satisfied: pyOpenSSL>=0.14 in c:\\users\\lobo\\anaconda3\\lib\\site-packages (from urllib3[secure]~=1.26->selenium) (21.0.0)\n",
      "Requirement already satisfied: cryptography>=1.3.4 in c:\\users\\lobo\\anaconda3\\lib\\site-packages (from urllib3[secure]~=1.26->selenium) (3.4.8)\n",
      "Requirement already satisfied: certifi in c:\\users\\lobo\\anaconda3\\lib\\site-packages (from urllib3[secure]~=1.26->selenium) (2021.10.8)\n",
      "Requirement already satisfied: six>=1.5.2 in c:\\users\\lobo\\anaconda3\\lib\\site-packages (from pyOpenSSL>=0.14->urllib3[secure]~=1.26->selenium) (1.16.0)\n",
      "Requirement already satisfied: h11<1,>=0.9.0 in c:\\users\\lobo\\anaconda3\\lib\\site-packages (from wsproto>=0.14->trio-websocket~=0.9->selenium) (0.13.0)\n"
     ]
    }
   ],
   "source": [
    "#Bibliotecas essenciais para o projeto:\n",
    "\n",
    "#instalar o selenium:\n",
    "#!pip install selenium\n",
    "\n",
    "#importar bibliotecas:\n",
    "#from selenium import webdriver #(para manipular usando selenium)\n",
    "#from selenium.webdriver.common.by import By #(para localizar elementos)\n",
    "#from selenium.webdriver.common.keys import Keys #(para enviar comandos)\n",
    "#import time #(para inserir intervalo de tempo)\n",
    "#import pandas #(para análise e tratamento de dados)\n"
   ]
  },
  {
   "cell_type": "code",
   "execution_count": null,
   "id": "64263580",
   "metadata": {},
   "outputs": [],
   "source": [
    "##O TESTE COMEÇA A PARTIR DAQUI##"
   ]
  },
  {
   "cell_type": "code",
   "execution_count": 18,
   "id": "05103126",
   "metadata": {
    "scrolled": true
   },
   "outputs": [],
   "source": [
    "#Acessar o portal do Altaia;\n",
    "\n",
    "#!pip install selenium\n",
    "\n",
    "import time \n",
    "from selenium import webdriver\n",
    "from selenium.webdriver.common.by import By\n",
    "from selenium.webdriver.common.keys import Keys\n",
    "driver = webdriver.Chrome()\n",
    "driver.get(\"https://altaia-sit.fibrasil.com.br/portal/altaia\")\n",
    "time.sleep(5)\n",
    "#Inserir usuário e senha de acesso;\n",
    "driver.find_element(By.XPATH,'//*[@id=\"inputUsername\"]').send_keys(\"altaia_sys\")\n",
    "driver.find_element(By.XPATH,'//*[@id=\"next\"]').click()\n",
    "time.sleep(2)\n",
    "driver.find_element(By.XPATH,'//*[@id=\"inputPassword\"]').send_keys(\"SuperAdmin#1234567\")\n",
    "driver.find_element(By.XPATH, '//*[@id=\"login\"]').click()\n",
    "time.sleep(15)\n",
    "#Acessar o módulo Gestão;\n",
    "driver.find_element(By.XPATH, '//*[@id=\"admin\"]/a').click()\n",
    "time.sleep(1)\n",
    "#Na categoria 'Altaia', clicar em 'Logs';\n",
    "driver.find_element(By.XPATH, '/html/body/nav/div[1]/div[2]/ul/li[3]/div/ul[6]/li[4]/a').click()\n",
    "time.sleep(5)\n",
    "###Testar botão \"todos\" em \"Estados\"\n",
    "#Dentro da seção 'Estado', selecionar 'todos';\n",
    "driver.find_element(By.XPATH, '/html/body/div[2]/altaia-app/altaia-log-manager-home/altaia-records-browser/nossisui-records-browser/nossisui-sidebar/fx-panel/div[1]/div[2]/div/div/nossisui-quick-filter/fx-tabs/div/fx-tab/div/nossisui-multi-select-filter/nossisui-text-button-group-options[3]/div/nossisui-button-group/div/div[3]/button/span/nossisui-label-href/span/span').click()\n",
    "#Clicar no botão 'Pesquisar';\n",
    "driver.find_element(By.XPATH, '/html/body/div[2]/altaia-app/altaia-log-manager-home/altaia-records-browser/nossisui-records-browser/nossisui-sidebar/fx-panel/fx-panel-footer/div/button[2]').click()\n",
    "\n",
    "###DEVERÁ CARREGAR 'TODAS' AS ALTERAÇÕES EFETUADAS ATÉ O PRESENTE MOMENTO, SEJA ELA COM 'SUCESSO' OU 'INSUCESSO'.\n"
   ]
  },
  {
   "cell_type": "code",
   "execution_count": null,
   "id": "4fbd793b",
   "metadata": {},
   "outputs": [],
   "source": [
    "##FIM DO TESTE##"
   ]
  }
 ],
 "metadata": {
  "kernelspec": {
   "display_name": "Python 3 (ipykernel)",
   "language": "python",
   "name": "python3"
  },
  "language_info": {
   "codemirror_mode": {
    "name": "ipython",
    "version": 3
   },
   "file_extension": ".py",
   "mimetype": "text/x-python",
   "name": "python",
   "nbconvert_exporter": "python",
   "pygments_lexer": "ipython3",
   "version": "3.9.7"
  }
 },
 "nbformat": 4,
 "nbformat_minor": 5
}
